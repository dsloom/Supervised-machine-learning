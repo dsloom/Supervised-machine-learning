{
  "cells": [
    {
      "cell_type": "markdown",
      "metadata": {
        "id": "view-in-github",
        "colab_type": "text"
      },
      "source": [
        "<a href=\"https://colab.research.google.com/github/dsloom/Supervised-machine-learning/blob/main/House_Pricing_Solution_corr.ipynb\" target=\"_parent\"><img src=\"https://colab.research.google.com/assets/colab-badge.svg\" alt=\"Open In Colab\"/></a>"
      ]
    },
    {
      "cell_type": "markdown",
      "metadata": {
        "id": "wM1E8agW8Wcy"
      },
      "source": [
        "# 1. Models"
      ]
    },
    {
      "cell_type": "code",
      "execution_count": null,
      "metadata": {
        "id": "1vaDmuW17kmk"
      },
      "outputs": [],
      "source": [
        "import pandas as pd\n",
        "from sklearn.model_selection import train_test_split\n",
        "from sklearn.impute import SimpleImputer\n",
        "from sklearn.tree import DecisionTreeClassifier\n",
        "from sklearn.metrics import accuracy_score\n",
        "from sklearn.pipeline import make_pipeline\n",
        "from sklearn.preprocessing import OneHotEncoder\n",
        "from sklearn.preprocessing import OrdinalEncoder\n",
        "from sklearn.compose import ColumnTransformer"
      ]
    },
    {
      "cell_type": "markdown",
      "metadata": {
        "id": "uk33EOxZy3xx"
      },
      "source": [
        "# Load Raw Data"
      ]
    },
    {
      "cell_type": "code",
      "execution_count": null,
      "metadata": {
        "id": "D915OdfF8hG-"
      },
      "outputs": [],
      "source": [
        "# reading from online\n",
        "url = \"https://drive.google.com/file/d/19URNvJqMVhZH9A_l9q8XU31klPD1px3K/view?usp=sharing\"\n",
        "path = 'https://drive.google.com/uc?export=download&id='+url.split('/')[-2]\n",
        "data = pd.read_csv(path)\n",
        "\n"
      ]
    },
    {
      "cell_type": "code",
      "execution_count": null,
      "metadata": {
        "id": "xgmOyExZy3x0"
      },
      "outputs": [],
      "source": [
        "# reading from local\n",
        "data = pd.read_csv(\"./house_pricing_raw.csv\")"
      ]
    },
    {
      "cell_type": "markdown",
      "metadata": {
        "id": "ZpF4A9E4-v4m"
      },
      "source": [
        "## 1.1. Preprocessing"
      ]
    },
    {
      "cell_type": "code",
      "execution_count": null,
      "metadata": {
        "id": "Ig59bzQjy3x8"
      },
      "outputs": [],
      "source": [
        "# Dropping ID\n",
        "data1 = data.copy()\n",
        "id = data1.pop(\"Id\")\n",
        "\n",
        "# X and y creation\n",
        "X = data1\n",
        "y = X.pop(\"Expensive\")\n",
        "\n",
        "# data splitting\n",
        "X_train, X_test, y_train, y_test = train_test_split(X, y, test_size=0.2, random_state=42)"
      ]
    },
    {
      "cell_type": "code",
      "execution_count": null,
      "metadata": {
        "id": "tZX4rMYcy3x-",
        "outputId": "36770b75-3d6f-49cb-a7e9-0719bfb0cb54"
      },
      "outputs": [
        {
          "data": {
            "text/html": [
              "<div>\n",
              "<style scoped>\n",
              "    .dataframe tbody tr th:only-of-type {\n",
              "        vertical-align: middle;\n",
              "    }\n",
              "\n",
              "    .dataframe tbody tr th {\n",
              "        vertical-align: top;\n",
              "    }\n",
              "\n",
              "    .dataframe thead th {\n",
              "        text-align: right;\n",
              "    }\n",
              "</style>\n",
              "<table border=\"1\" class=\"dataframe\">\n",
              "  <thead>\n",
              "    <tr style=\"text-align: right;\">\n",
              "      <th></th>\n",
              "      <th>LotArea</th>\n",
              "      <th>LotFrontage</th>\n",
              "      <th>TotalBsmtSF</th>\n",
              "      <th>BedroomAbvGr</th>\n",
              "      <th>Fireplaces</th>\n",
              "      <th>PoolArea</th>\n",
              "      <th>GarageCars</th>\n",
              "      <th>WoodDeckSF</th>\n",
              "      <th>ScreenPorch</th>\n",
              "      <th>MSZoning</th>\n",
              "      <th>...</th>\n",
              "      <th>GarageType</th>\n",
              "      <th>GarageFinish</th>\n",
              "      <th>GarageQual</th>\n",
              "      <th>GarageCond</th>\n",
              "      <th>PavedDrive</th>\n",
              "      <th>PoolQC</th>\n",
              "      <th>Fence</th>\n",
              "      <th>MiscFeature</th>\n",
              "      <th>SaleType</th>\n",
              "      <th>SaleCondition</th>\n",
              "    </tr>\n",
              "  </thead>\n",
              "  <tbody>\n",
              "    <tr>\n",
              "      <th>254</th>\n",
              "      <td>8400</td>\n",
              "      <td>70.0</td>\n",
              "      <td>1314</td>\n",
              "      <td>3</td>\n",
              "      <td>0</td>\n",
              "      <td>0</td>\n",
              "      <td>1</td>\n",
              "      <td>250</td>\n",
              "      <td>0</td>\n",
              "      <td>RL</td>\n",
              "      <td>...</td>\n",
              "      <td>Attchd</td>\n",
              "      <td>RFn</td>\n",
              "      <td>TA</td>\n",
              "      <td>TA</td>\n",
              "      <td>Y</td>\n",
              "      <td>NaN</td>\n",
              "      <td>NaN</td>\n",
              "      <td>NaN</td>\n",
              "      <td>WD</td>\n",
              "      <td>Normal</td>\n",
              "    </tr>\n",
              "    <tr>\n",
              "      <th>1066</th>\n",
              "      <td>7837</td>\n",
              "      <td>59.0</td>\n",
              "      <td>799</td>\n",
              "      <td>3</td>\n",
              "      <td>1</td>\n",
              "      <td>0</td>\n",
              "      <td>2</td>\n",
              "      <td>0</td>\n",
              "      <td>0</td>\n",
              "      <td>RL</td>\n",
              "      <td>...</td>\n",
              "      <td>Attchd</td>\n",
              "      <td>RFn</td>\n",
              "      <td>TA</td>\n",
              "      <td>TA</td>\n",
              "      <td>Y</td>\n",
              "      <td>NaN</td>\n",
              "      <td>NaN</td>\n",
              "      <td>NaN</td>\n",
              "      <td>WD</td>\n",
              "      <td>Normal</td>\n",
              "    </tr>\n",
              "    <tr>\n",
              "      <th>638</th>\n",
              "      <td>8777</td>\n",
              "      <td>67.0</td>\n",
              "      <td>796</td>\n",
              "      <td>2</td>\n",
              "      <td>0</td>\n",
              "      <td>0</td>\n",
              "      <td>0</td>\n",
              "      <td>328</td>\n",
              "      <td>0</td>\n",
              "      <td>RL</td>\n",
              "      <td>...</td>\n",
              "      <td>NaN</td>\n",
              "      <td>NaN</td>\n",
              "      <td>NaN</td>\n",
              "      <td>NaN</td>\n",
              "      <td>P</td>\n",
              "      <td>NaN</td>\n",
              "      <td>MnPrv</td>\n",
              "      <td>NaN</td>\n",
              "      <td>WD</td>\n",
              "      <td>Normal</td>\n",
              "    </tr>\n",
              "    <tr>\n",
              "      <th>799</th>\n",
              "      <td>7200</td>\n",
              "      <td>60.0</td>\n",
              "      <td>731</td>\n",
              "      <td>3</td>\n",
              "      <td>2</td>\n",
              "      <td>0</td>\n",
              "      <td>1</td>\n",
              "      <td>0</td>\n",
              "      <td>0</td>\n",
              "      <td>RL</td>\n",
              "      <td>...</td>\n",
              "      <td>Detchd</td>\n",
              "      <td>Unf</td>\n",
              "      <td>TA</td>\n",
              "      <td>TA</td>\n",
              "      <td>Y</td>\n",
              "      <td>NaN</td>\n",
              "      <td>MnPrv</td>\n",
              "      <td>NaN</td>\n",
              "      <td>WD</td>\n",
              "      <td>Normal</td>\n",
              "    </tr>\n",
              "    <tr>\n",
              "      <th>380</th>\n",
              "      <td>5000</td>\n",
              "      <td>50.0</td>\n",
              "      <td>1026</td>\n",
              "      <td>3</td>\n",
              "      <td>1</td>\n",
              "      <td>0</td>\n",
              "      <td>1</td>\n",
              "      <td>0</td>\n",
              "      <td>0</td>\n",
              "      <td>RL</td>\n",
              "      <td>...</td>\n",
              "      <td>Detchd</td>\n",
              "      <td>Unf</td>\n",
              "      <td>TA</td>\n",
              "      <td>TA</td>\n",
              "      <td>Y</td>\n",
              "      <td>NaN</td>\n",
              "      <td>NaN</td>\n",
              "      <td>NaN</td>\n",
              "      <td>WD</td>\n",
              "      <td>Normal</td>\n",
              "    </tr>\n",
              "    <tr>\n",
              "      <th>...</th>\n",
              "      <td>...</td>\n",
              "      <td>...</td>\n",
              "      <td>...</td>\n",
              "      <td>...</td>\n",
              "      <td>...</td>\n",
              "      <td>...</td>\n",
              "      <td>...</td>\n",
              "      <td>...</td>\n",
              "      <td>...</td>\n",
              "      <td>...</td>\n",
              "      <td>...</td>\n",
              "      <td>...</td>\n",
              "      <td>...</td>\n",
              "      <td>...</td>\n",
              "      <td>...</td>\n",
              "      <td>...</td>\n",
              "      <td>...</td>\n",
              "      <td>...</td>\n",
              "      <td>...</td>\n",
              "      <td>...</td>\n",
              "      <td>...</td>\n",
              "    </tr>\n",
              "    <tr>\n",
              "      <th>1095</th>\n",
              "      <td>9317</td>\n",
              "      <td>78.0</td>\n",
              "      <td>1314</td>\n",
              "      <td>3</td>\n",
              "      <td>1</td>\n",
              "      <td>0</td>\n",
              "      <td>2</td>\n",
              "      <td>0</td>\n",
              "      <td>0</td>\n",
              "      <td>RL</td>\n",
              "      <td>...</td>\n",
              "      <td>Attchd</td>\n",
              "      <td>RFn</td>\n",
              "      <td>TA</td>\n",
              "      <td>TA</td>\n",
              "      <td>Y</td>\n",
              "      <td>NaN</td>\n",
              "      <td>NaN</td>\n",
              "      <td>NaN</td>\n",
              "      <td>WD</td>\n",
              "      <td>Normal</td>\n",
              "    </tr>\n",
              "    <tr>\n",
              "      <th>1130</th>\n",
              "      <td>7804</td>\n",
              "      <td>65.0</td>\n",
              "      <td>1122</td>\n",
              "      <td>4</td>\n",
              "      <td>2</td>\n",
              "      <td>0</td>\n",
              "      <td>2</td>\n",
              "      <td>431</td>\n",
              "      <td>0</td>\n",
              "      <td>RL</td>\n",
              "      <td>...</td>\n",
              "      <td>Detchd</td>\n",
              "      <td>Unf</td>\n",
              "      <td>TA</td>\n",
              "      <td>TA</td>\n",
              "      <td>Y</td>\n",
              "      <td>NaN</td>\n",
              "      <td>MnPrv</td>\n",
              "      <td>NaN</td>\n",
              "      <td>WD</td>\n",
              "      <td>Normal</td>\n",
              "    </tr>\n",
              "    <tr>\n",
              "      <th>1294</th>\n",
              "      <td>8172</td>\n",
              "      <td>60.0</td>\n",
              "      <td>864</td>\n",
              "      <td>2</td>\n",
              "      <td>0</td>\n",
              "      <td>0</td>\n",
              "      <td>2</td>\n",
              "      <td>0</td>\n",
              "      <td>0</td>\n",
              "      <td>RL</td>\n",
              "      <td>...</td>\n",
              "      <td>Detchd</td>\n",
              "      <td>Unf</td>\n",
              "      <td>TA</td>\n",
              "      <td>TA</td>\n",
              "      <td>N</td>\n",
              "      <td>NaN</td>\n",
              "      <td>NaN</td>\n",
              "      <td>NaN</td>\n",
              "      <td>WD</td>\n",
              "      <td>Normal</td>\n",
              "    </tr>\n",
              "    <tr>\n",
              "      <th>860</th>\n",
              "      <td>7642</td>\n",
              "      <td>55.0</td>\n",
              "      <td>912</td>\n",
              "      <td>3</td>\n",
              "      <td>1</td>\n",
              "      <td>0</td>\n",
              "      <td>1</td>\n",
              "      <td>0</td>\n",
              "      <td>0</td>\n",
              "      <td>RL</td>\n",
              "      <td>...</td>\n",
              "      <td>Detchd</td>\n",
              "      <td>Unf</td>\n",
              "      <td>TA</td>\n",
              "      <td>TA</td>\n",
              "      <td>Y</td>\n",
              "      <td>NaN</td>\n",
              "      <td>GdPrv</td>\n",
              "      <td>NaN</td>\n",
              "      <td>WD</td>\n",
              "      <td>Normal</td>\n",
              "    </tr>\n",
              "    <tr>\n",
              "      <th>1126</th>\n",
              "      <td>3684</td>\n",
              "      <td>53.0</td>\n",
              "      <td>1373</td>\n",
              "      <td>2</td>\n",
              "      <td>1</td>\n",
              "      <td>0</td>\n",
              "      <td>3</td>\n",
              "      <td>143</td>\n",
              "      <td>0</td>\n",
              "      <td>RL</td>\n",
              "      <td>...</td>\n",
              "      <td>Attchd</td>\n",
              "      <td>Fin</td>\n",
              "      <td>TA</td>\n",
              "      <td>TA</td>\n",
              "      <td>Y</td>\n",
              "      <td>NaN</td>\n",
              "      <td>NaN</td>\n",
              "      <td>NaN</td>\n",
              "      <td>WD</td>\n",
              "      <td>Normal</td>\n",
              "    </tr>\n",
              "  </tbody>\n",
              "</table>\n",
              "<p>1168 rows × 79 columns</p>\n",
              "</div>"
            ],
            "text/plain": [
              "      LotArea  LotFrontage  TotalBsmtSF  BedroomAbvGr  Fireplaces  PoolArea  \\\n",
              "254      8400         70.0         1314             3           0         0   \n",
              "1066     7837         59.0          799             3           1         0   \n",
              "638      8777         67.0          796             2           0         0   \n",
              "799      7200         60.0          731             3           2         0   \n",
              "380      5000         50.0         1026             3           1         0   \n",
              "...       ...          ...          ...           ...         ...       ...   \n",
              "1095     9317         78.0         1314             3           1         0   \n",
              "1130     7804         65.0         1122             4           2         0   \n",
              "1294     8172         60.0          864             2           0         0   \n",
              "860      7642         55.0          912             3           1         0   \n",
              "1126     3684         53.0         1373             2           1         0   \n",
              "\n",
              "      GarageCars  WoodDeckSF  ScreenPorch MSZoning  ... GarageType  \\\n",
              "254            1         250            0       RL  ...     Attchd   \n",
              "1066           2           0            0       RL  ...     Attchd   \n",
              "638            0         328            0       RL  ...        NaN   \n",
              "799            1           0            0       RL  ...     Detchd   \n",
              "380            1           0            0       RL  ...     Detchd   \n",
              "...          ...         ...          ...      ...  ...        ...   \n",
              "1095           2           0            0       RL  ...     Attchd   \n",
              "1130           2         431            0       RL  ...     Detchd   \n",
              "1294           2           0            0       RL  ...     Detchd   \n",
              "860            1           0            0       RL  ...     Detchd   \n",
              "1126           3         143            0       RL  ...     Attchd   \n",
              "\n",
              "     GarageFinish GarageQual GarageCond PavedDrive PoolQC  Fence MiscFeature  \\\n",
              "254           RFn         TA         TA          Y    NaN    NaN         NaN   \n",
              "1066          RFn         TA         TA          Y    NaN    NaN         NaN   \n",
              "638           NaN        NaN        NaN          P    NaN  MnPrv         NaN   \n",
              "799           Unf         TA         TA          Y    NaN  MnPrv         NaN   \n",
              "380           Unf         TA         TA          Y    NaN    NaN         NaN   \n",
              "...           ...        ...        ...        ...    ...    ...         ...   \n",
              "1095          RFn         TA         TA          Y    NaN    NaN         NaN   \n",
              "1130          Unf         TA         TA          Y    NaN  MnPrv         NaN   \n",
              "1294          Unf         TA         TA          N    NaN    NaN         NaN   \n",
              "860           Unf         TA         TA          Y    NaN  GdPrv         NaN   \n",
              "1126          Fin         TA         TA          Y    NaN    NaN         NaN   \n",
              "\n",
              "     SaleType SaleCondition  \n",
              "254        WD        Normal  \n",
              "1066       WD        Normal  \n",
              "638        WD        Normal  \n",
              "799        WD        Normal  \n",
              "380        WD        Normal  \n",
              "...       ...           ...  \n",
              "1095       WD        Normal  \n",
              "1130       WD        Normal  \n",
              "1294       WD        Normal  \n",
              "860        WD        Normal  \n",
              "1126       WD        Normal  \n",
              "\n",
              "[1168 rows x 79 columns]"
            ]
          },
          "execution_count": 5,
          "metadata": {},
          "output_type": "execute_result"
        }
      ],
      "source": [
        "X_train"
      ]
    },
    {
      "cell_type": "markdown",
      "metadata": {
        "id": "Xt6115gw8d5O"
      },
      "source": [
        "# Load Competition data"
      ]
    },
    {
      "cell_type": "code",
      "execution_count": null,
      "metadata": {
        "id": "U2hj6N2V75kl"
      },
      "outputs": [],
      "source": [
        "# reading\n",
        "url = \"https://drive.google.com/file/d/15PfmTxmavQCT-f7iY9tgwWxm9t4GRees/view?usp=sharing\"\n",
        "path = 'https://drive.google.com/uc?export=download&id='+url.split('/')[-2]\n",
        "comp_data1 = pd.read_csv(path)"
      ]
    },
    {
      "cell_type": "code",
      "execution_count": null,
      "metadata": {
        "id": "J9911OIVy3yC"
      },
      "outputs": [],
      "source": [
        "# reading from local\n",
        "comp_data1 = pd.read_csv(\"./predict_data.csv\")"
      ]
    },
    {
      "cell_type": "code",
      "execution_count": null,
      "metadata": {
        "id": "OhnwiZVZAZAE"
      },
      "outputs": [],
      "source": [
        "comp_data = comp_data1.copy()"
      ]
    },
    {
      "cell_type": "code",
      "execution_count": null,
      "metadata": {
        "id": "Klm4WjWE-sQg",
        "outputId": "0dce5a23-d1c8-441e-b661-a05c3f4a012f"
      },
      "outputs": [
        {
          "data": {
            "text/html": [
              "<div>\n",
              "<style scoped>\n",
              "    .dataframe tbody tr th:only-of-type {\n",
              "        vertical-align: middle;\n",
              "    }\n",
              "\n",
              "    .dataframe tbody tr th {\n",
              "        vertical-align: top;\n",
              "    }\n",
              "\n",
              "    .dataframe thead th {\n",
              "        text-align: right;\n",
              "    }\n",
              "</style>\n",
              "<table border=\"1\" class=\"dataframe\">\n",
              "  <thead>\n",
              "    <tr style=\"text-align: right;\">\n",
              "      <th></th>\n",
              "      <th>LotArea</th>\n",
              "      <th>LotFrontage</th>\n",
              "      <th>TotalBsmtSF</th>\n",
              "      <th>BedroomAbvGr</th>\n",
              "      <th>Fireplaces</th>\n",
              "      <th>PoolArea</th>\n",
              "      <th>GarageCars</th>\n",
              "      <th>WoodDeckSF</th>\n",
              "      <th>ScreenPorch</th>\n",
              "      <th>MSZoning</th>\n",
              "      <th>...</th>\n",
              "      <th>GarageType</th>\n",
              "      <th>GarageFinish</th>\n",
              "      <th>GarageQual</th>\n",
              "      <th>GarageCond</th>\n",
              "      <th>PavedDrive</th>\n",
              "      <th>PoolQC</th>\n",
              "      <th>Fence</th>\n",
              "      <th>MiscFeature</th>\n",
              "      <th>SaleType</th>\n",
              "      <th>SaleCondition</th>\n",
              "    </tr>\n",
              "  </thead>\n",
              "  <tbody>\n",
              "    <tr>\n",
              "      <th>0</th>\n",
              "      <td>11622</td>\n",
              "      <td>80.0</td>\n",
              "      <td>882.0</td>\n",
              "      <td>2</td>\n",
              "      <td>0</td>\n",
              "      <td>0</td>\n",
              "      <td>1.0</td>\n",
              "      <td>140</td>\n",
              "      <td>120</td>\n",
              "      <td>RH</td>\n",
              "      <td>...</td>\n",
              "      <td>Attchd</td>\n",
              "      <td>Unf</td>\n",
              "      <td>TA</td>\n",
              "      <td>TA</td>\n",
              "      <td>Y</td>\n",
              "      <td>NaN</td>\n",
              "      <td>MnPrv</td>\n",
              "      <td>NaN</td>\n",
              "      <td>WD</td>\n",
              "      <td>Normal</td>\n",
              "    </tr>\n",
              "    <tr>\n",
              "      <th>1</th>\n",
              "      <td>14267</td>\n",
              "      <td>81.0</td>\n",
              "      <td>1329.0</td>\n",
              "      <td>3</td>\n",
              "      <td>0</td>\n",
              "      <td>0</td>\n",
              "      <td>1.0</td>\n",
              "      <td>393</td>\n",
              "      <td>0</td>\n",
              "      <td>RL</td>\n",
              "      <td>...</td>\n",
              "      <td>Attchd</td>\n",
              "      <td>Unf</td>\n",
              "      <td>TA</td>\n",
              "      <td>TA</td>\n",
              "      <td>Y</td>\n",
              "      <td>NaN</td>\n",
              "      <td>NaN</td>\n",
              "      <td>Gar2</td>\n",
              "      <td>WD</td>\n",
              "      <td>Normal</td>\n",
              "    </tr>\n",
              "    <tr>\n",
              "      <th>2</th>\n",
              "      <td>13830</td>\n",
              "      <td>74.0</td>\n",
              "      <td>928.0</td>\n",
              "      <td>3</td>\n",
              "      <td>1</td>\n",
              "      <td>0</td>\n",
              "      <td>2.0</td>\n",
              "      <td>212</td>\n",
              "      <td>0</td>\n",
              "      <td>RL</td>\n",
              "      <td>...</td>\n",
              "      <td>Attchd</td>\n",
              "      <td>Fin</td>\n",
              "      <td>TA</td>\n",
              "      <td>TA</td>\n",
              "      <td>Y</td>\n",
              "      <td>NaN</td>\n",
              "      <td>MnPrv</td>\n",
              "      <td>NaN</td>\n",
              "      <td>WD</td>\n",
              "      <td>Normal</td>\n",
              "    </tr>\n",
              "    <tr>\n",
              "      <th>3</th>\n",
              "      <td>9978</td>\n",
              "      <td>78.0</td>\n",
              "      <td>926.0</td>\n",
              "      <td>3</td>\n",
              "      <td>1</td>\n",
              "      <td>0</td>\n",
              "      <td>2.0</td>\n",
              "      <td>360</td>\n",
              "      <td>0</td>\n",
              "      <td>RL</td>\n",
              "      <td>...</td>\n",
              "      <td>Attchd</td>\n",
              "      <td>Fin</td>\n",
              "      <td>TA</td>\n",
              "      <td>TA</td>\n",
              "      <td>Y</td>\n",
              "      <td>NaN</td>\n",
              "      <td>NaN</td>\n",
              "      <td>NaN</td>\n",
              "      <td>WD</td>\n",
              "      <td>Normal</td>\n",
              "    </tr>\n",
              "    <tr>\n",
              "      <th>4</th>\n",
              "      <td>5005</td>\n",
              "      <td>43.0</td>\n",
              "      <td>1280.0</td>\n",
              "      <td>2</td>\n",
              "      <td>0</td>\n",
              "      <td>0</td>\n",
              "      <td>2.0</td>\n",
              "      <td>0</td>\n",
              "      <td>144</td>\n",
              "      <td>RL</td>\n",
              "      <td>...</td>\n",
              "      <td>Attchd</td>\n",
              "      <td>RFn</td>\n",
              "      <td>TA</td>\n",
              "      <td>TA</td>\n",
              "      <td>Y</td>\n",
              "      <td>NaN</td>\n",
              "      <td>NaN</td>\n",
              "      <td>NaN</td>\n",
              "      <td>WD</td>\n",
              "      <td>Normal</td>\n",
              "    </tr>\n",
              "    <tr>\n",
              "      <th>...</th>\n",
              "      <td>...</td>\n",
              "      <td>...</td>\n",
              "      <td>...</td>\n",
              "      <td>...</td>\n",
              "      <td>...</td>\n",
              "      <td>...</td>\n",
              "      <td>...</td>\n",
              "      <td>...</td>\n",
              "      <td>...</td>\n",
              "      <td>...</td>\n",
              "      <td>...</td>\n",
              "      <td>...</td>\n",
              "      <td>...</td>\n",
              "      <td>...</td>\n",
              "      <td>...</td>\n",
              "      <td>...</td>\n",
              "      <td>...</td>\n",
              "      <td>...</td>\n",
              "      <td>...</td>\n",
              "      <td>...</td>\n",
              "      <td>...</td>\n",
              "    </tr>\n",
              "    <tr>\n",
              "      <th>1454</th>\n",
              "      <td>1936</td>\n",
              "      <td>21.0</td>\n",
              "      <td>546.0</td>\n",
              "      <td>3</td>\n",
              "      <td>0</td>\n",
              "      <td>0</td>\n",
              "      <td>0.0</td>\n",
              "      <td>0</td>\n",
              "      <td>0</td>\n",
              "      <td>RM</td>\n",
              "      <td>...</td>\n",
              "      <td>NaN</td>\n",
              "      <td>NaN</td>\n",
              "      <td>NaN</td>\n",
              "      <td>NaN</td>\n",
              "      <td>Y</td>\n",
              "      <td>NaN</td>\n",
              "      <td>NaN</td>\n",
              "      <td>NaN</td>\n",
              "      <td>WD</td>\n",
              "      <td>Normal</td>\n",
              "    </tr>\n",
              "    <tr>\n",
              "      <th>1455</th>\n",
              "      <td>1894</td>\n",
              "      <td>21.0</td>\n",
              "      <td>546.0</td>\n",
              "      <td>3</td>\n",
              "      <td>0</td>\n",
              "      <td>0</td>\n",
              "      <td>1.0</td>\n",
              "      <td>0</td>\n",
              "      <td>0</td>\n",
              "      <td>RM</td>\n",
              "      <td>...</td>\n",
              "      <td>CarPort</td>\n",
              "      <td>Unf</td>\n",
              "      <td>TA</td>\n",
              "      <td>TA</td>\n",
              "      <td>Y</td>\n",
              "      <td>NaN</td>\n",
              "      <td>NaN</td>\n",
              "      <td>NaN</td>\n",
              "      <td>WD</td>\n",
              "      <td>Abnorml</td>\n",
              "    </tr>\n",
              "    <tr>\n",
              "      <th>1456</th>\n",
              "      <td>20000</td>\n",
              "      <td>160.0</td>\n",
              "      <td>1224.0</td>\n",
              "      <td>4</td>\n",
              "      <td>1</td>\n",
              "      <td>0</td>\n",
              "      <td>2.0</td>\n",
              "      <td>474</td>\n",
              "      <td>0</td>\n",
              "      <td>RL</td>\n",
              "      <td>...</td>\n",
              "      <td>Detchd</td>\n",
              "      <td>Unf</td>\n",
              "      <td>TA</td>\n",
              "      <td>TA</td>\n",
              "      <td>Y</td>\n",
              "      <td>NaN</td>\n",
              "      <td>NaN</td>\n",
              "      <td>NaN</td>\n",
              "      <td>WD</td>\n",
              "      <td>Abnorml</td>\n",
              "    </tr>\n",
              "    <tr>\n",
              "      <th>1457</th>\n",
              "      <td>10441</td>\n",
              "      <td>62.0</td>\n",
              "      <td>912.0</td>\n",
              "      <td>3</td>\n",
              "      <td>0</td>\n",
              "      <td>0</td>\n",
              "      <td>0.0</td>\n",
              "      <td>80</td>\n",
              "      <td>0</td>\n",
              "      <td>RL</td>\n",
              "      <td>...</td>\n",
              "      <td>NaN</td>\n",
              "      <td>NaN</td>\n",
              "      <td>NaN</td>\n",
              "      <td>NaN</td>\n",
              "      <td>Y</td>\n",
              "      <td>NaN</td>\n",
              "      <td>MnPrv</td>\n",
              "      <td>Shed</td>\n",
              "      <td>WD</td>\n",
              "      <td>Normal</td>\n",
              "    </tr>\n",
              "    <tr>\n",
              "      <th>1458</th>\n",
              "      <td>9627</td>\n",
              "      <td>74.0</td>\n",
              "      <td>996.0</td>\n",
              "      <td>3</td>\n",
              "      <td>1</td>\n",
              "      <td>0</td>\n",
              "      <td>3.0</td>\n",
              "      <td>190</td>\n",
              "      <td>0</td>\n",
              "      <td>RL</td>\n",
              "      <td>...</td>\n",
              "      <td>Attchd</td>\n",
              "      <td>Fin</td>\n",
              "      <td>TA</td>\n",
              "      <td>TA</td>\n",
              "      <td>Y</td>\n",
              "      <td>NaN</td>\n",
              "      <td>NaN</td>\n",
              "      <td>NaN</td>\n",
              "      <td>WD</td>\n",
              "      <td>Normal</td>\n",
              "    </tr>\n",
              "  </tbody>\n",
              "</table>\n",
              "<p>1459 rows × 80 columns</p>\n",
              "</div>"
            ],
            "text/plain": [
              "      LotArea  LotFrontage  TotalBsmtSF  BedroomAbvGr  Fireplaces  PoolArea  \\\n",
              "0       11622         80.0        882.0             2           0         0   \n",
              "1       14267         81.0       1329.0             3           0         0   \n",
              "2       13830         74.0        928.0             3           1         0   \n",
              "3        9978         78.0        926.0             3           1         0   \n",
              "4        5005         43.0       1280.0             2           0         0   \n",
              "...       ...          ...          ...           ...         ...       ...   \n",
              "1454     1936         21.0        546.0             3           0         0   \n",
              "1455     1894         21.0        546.0             3           0         0   \n",
              "1456    20000        160.0       1224.0             4           1         0   \n",
              "1457    10441         62.0        912.0             3           0         0   \n",
              "1458     9627         74.0        996.0             3           1         0   \n",
              "\n",
              "      GarageCars  WoodDeckSF  ScreenPorch MSZoning  ... GarageType  \\\n",
              "0            1.0         140          120       RH  ...     Attchd   \n",
              "1            1.0         393            0       RL  ...     Attchd   \n",
              "2            2.0         212            0       RL  ...     Attchd   \n",
              "3            2.0         360            0       RL  ...     Attchd   \n",
              "4            2.0           0          144       RL  ...     Attchd   \n",
              "...          ...         ...          ...      ...  ...        ...   \n",
              "1454         0.0           0            0       RM  ...        NaN   \n",
              "1455         1.0           0            0       RM  ...    CarPort   \n",
              "1456         2.0         474            0       RL  ...     Detchd   \n",
              "1457         0.0          80            0       RL  ...        NaN   \n",
              "1458         3.0         190            0       RL  ...     Attchd   \n",
              "\n",
              "     GarageFinish GarageQual GarageCond PavedDrive PoolQC  Fence MiscFeature  \\\n",
              "0             Unf         TA         TA          Y    NaN  MnPrv         NaN   \n",
              "1             Unf         TA         TA          Y    NaN    NaN        Gar2   \n",
              "2             Fin         TA         TA          Y    NaN  MnPrv         NaN   \n",
              "3             Fin         TA         TA          Y    NaN    NaN         NaN   \n",
              "4             RFn         TA         TA          Y    NaN    NaN         NaN   \n",
              "...           ...        ...        ...        ...    ...    ...         ...   \n",
              "1454          NaN        NaN        NaN          Y    NaN    NaN         NaN   \n",
              "1455          Unf         TA         TA          Y    NaN    NaN         NaN   \n",
              "1456          Unf         TA         TA          Y    NaN    NaN         NaN   \n",
              "1457          NaN        NaN        NaN          Y    NaN  MnPrv        Shed   \n",
              "1458          Fin         TA         TA          Y    NaN    NaN         NaN   \n",
              "\n",
              "     SaleType SaleCondition  \n",
              "0          WD        Normal  \n",
              "1          WD        Normal  \n",
              "2          WD        Normal  \n",
              "3          WD        Normal  \n",
              "4          WD        Normal  \n",
              "...       ...           ...  \n",
              "1454       WD        Normal  \n",
              "1455       WD       Abnorml  \n",
              "1456       WD       Abnorml  \n",
              "1457       WD        Normal  \n",
              "1458       WD        Normal  \n",
              "\n",
              "[1459 rows x 80 columns]"
            ]
          },
          "execution_count": 9,
          "metadata": {},
          "output_type": "execute_result"
        }
      ],
      "source": [
        "X_comp = comp_data\n",
        "X_comp"
      ]
    },
    {
      "cell_type": "code",
      "execution_count": null,
      "metadata": {
        "id": "u8VSBi3MAMkw"
      },
      "outputs": [],
      "source": [
        "house_id = X_comp.pop(\"Id\")"
      ]
    },
    {
      "cell_type": "code",
      "execution_count": null,
      "metadata": {
        "colab": {
          "base_uri": "https://localhost:8080/"
        },
        "id": "1HD6yVIXAHoR",
        "outputId": "699b5997-04bf-4c2d-feca-e4d28c43799f"
      },
      "outputs": [
        {
          "data": {
            "text/plain": [
              "Index(['LotArea', 'LotFrontage', 'TotalBsmtSF', 'BedroomAbvGr', 'Fireplaces',\n",
              "       'PoolArea', 'GarageCars', 'WoodDeckSF', 'ScreenPorch', 'MSZoning',\n",
              "       'Condition1', 'Heating', 'Street', 'CentralAir', 'Foundation',\n",
              "       'ExterQual', 'ExterCond', 'BsmtQual', 'BsmtCond', 'BsmtExposure',\n",
              "       'BsmtFinType1', 'KitchenQual', 'FireplaceQu', 'MSSubClass',\n",
              "       'OverallQual', 'OverallCond', 'YearBuilt', 'YearRemodAdd', 'MasVnrArea',\n",
              "       'BsmtFinSF1', 'BsmtFinSF2', 'BsmtUnfSF', '1stFlrSF', '2ndFlrSF',\n",
              "       'LowQualFinSF', 'GrLivArea', 'BsmtFullBath', 'BsmtHalfBath', 'FullBath',\n",
              "       'HalfBath', 'KitchenAbvGr', 'TotRmsAbvGrd', 'GarageYrBlt', 'GarageArea',\n",
              "       'OpenPorchSF', 'EnclosedPorch', '3SsnPorch', 'MiscVal', 'MoSold',\n",
              "       'YrSold', 'Alley', 'LotShape', 'LandContour', 'Utilities', 'LotConfig',\n",
              "       'LandSlope', 'Neighborhood', 'Condition2', 'BldgType', 'HouseStyle',\n",
              "       'RoofStyle', 'RoofMatl', 'Exterior1st', 'Exterior2nd', 'MasVnrType',\n",
              "       'BsmtFinType2', 'HeatingQC', 'Electrical', 'Functional', 'GarageType',\n",
              "       'GarageFinish', 'GarageQual', 'GarageCond', 'PavedDrive', 'PoolQC',\n",
              "       'Fence', 'MiscFeature', 'SaleType', 'SaleCondition'],\n",
              "      dtype='object')"
            ]
          },
          "execution_count": 11,
          "metadata": {},
          "output_type": "execute_result"
        }
      ],
      "source": [
        "X_comp.columns"
      ]
    },
    {
      "cell_type": "markdown",
      "metadata": {
        "id": "YmNUJ6aOpPwx"
      },
      "source": [
        "# Explanation of the columns\n",
        "\n",
        "ordinal_col_names = ['ExterQual','ExterCond','BsmtQual', 'BsmtCond','BsmtExposure','BsmtFinType1',\n",
        "'KitchenQual','FireplaceQu','LotShape','BsmtFinType2',\n",
        "'HeatingQC','GarageFinish','GarageQual','GarageCond',\n",
        "'PoolQC', 'Fence']"
      ]
    },
    {
      "cell_type": "markdown",
      "metadata": {
        "id": "8oHO9oSzpjLz"
      },
      "source": [
        "['ExterQual', 'ExterCond', 'BsmtQual', 'BsmtCond', 'BsmtExposure','BsmtFinType1', 'KitchenQual', 'FireplaceQu','LotShape','HeatingQC', 'GarageFinish', 'GarageQual', 'GarageCond','PoolQC', 'Fence', 'Utilities', 'CentralAir', 'Functional', 'BsmtFinType2', 'LandContour' ]"
      ]
    },
    {
      "cell_type": "code",
      "execution_count": null,
      "metadata": {
        "id": "i-r-nzLKzW4m"
      },
      "outputs": [],
      "source": [
        "X_num = X.select_dtypes(include=\"number\")"
      ]
    },
    {
      "cell_type": "code",
      "execution_count": null,
      "metadata": {
        "colab": {
          "base_uri": "https://localhost:8080/"
        },
        "id": "fygz3ONZzYP1",
        "outputId": "0260500c-c009-459d-a01f-1e0a37ae762c"
      },
      "outputs": [
        {
          "data": {
            "text/plain": [
              "Index(['LotArea', 'LotFrontage', 'TotalBsmtSF', 'BedroomAbvGr', 'Fireplaces',\n",
              "       'PoolArea', 'GarageCars', 'WoodDeckSF', 'ScreenPorch', 'MSSubClass',\n",
              "       'OverallQual', 'OverallCond', 'YearBuilt', 'YearRemodAdd', 'MasVnrArea',\n",
              "       'BsmtFinSF1', 'BsmtFinSF2', 'BsmtUnfSF', '1stFlrSF', '2ndFlrSF',\n",
              "       'LowQualFinSF', 'GrLivArea', 'BsmtFullBath', 'BsmtHalfBath', 'FullBath',\n",
              "       'HalfBath', 'KitchenAbvGr', 'TotRmsAbvGrd', 'GarageYrBlt', 'GarageArea',\n",
              "       'OpenPorchSF', 'EnclosedPorch', '3SsnPorch', 'MiscVal', 'MoSold',\n",
              "       'YrSold'],\n",
              "      dtype='object')"
            ]
          },
          "execution_count": 13,
          "metadata": {},
          "output_type": "execute_result"
        }
      ],
      "source": [
        "X_num.columns"
      ]
    },
    {
      "cell_type": "markdown",
      "metadata": {
        "id": "t0k6Yk0rahWz"
      },
      "source": [
        "## Preprocessing"
      ]
    },
    {
      "cell_type": "code",
      "execution_count": null,
      "metadata": {
        "id": "PReIK8Atajp4"
      },
      "outputs": [],
      "source": [
        "# building the pipeline\n",
        "X_cat = X.select_dtypes(exclude=\"number\").copy()\n",
        "X_num = X.select_dtypes(include=\"number\").copy()\n",
        "\n",
        "numeric_pipe = make_pipeline(\n",
        "    SimpleImputer(strategy=\"constant\"))\n",
        "\n",
        "categoric_pipe = make_pipeline(\n",
        "    SimpleImputer(strategy=\"constant\", fill_value=\"NA\"),\n",
        "    OneHotEncoder(handle_unknown=\"ignore\")\n",
        ")\n",
        "\n",
        "preprocessor = ColumnTransformer(\n",
        "    transformers=[\n",
        "        (\"num_pipe\", numeric_pipe, X_num.columns),\n",
        "        (\"cat_pipe\", categoric_pipe, X_cat.columns),\n",
        "    ]\n",
        ")\n",
        "\n",
        "\n",
        "# Ordinal Encoding - creation of categorical data\n",
        "ExterQual_cats =    [\"Po\", \"Fa\", \"TA\", \"Gd\", \"Ex\"]\n",
        "ExterCond_cats =    [\"Po\", \"Fa\", \"TA\", \"Gd\", \"Ex\"]\n",
        "BsmtQual_cats =     [\"NA\", \"Po\", \"Fa\", \"TA\", \"Gd\", \"Ex\"]\n",
        "BsmtCond_cats =     [\"NA\", \"Po\", \"Fa\", \"TA\", \"Gd\", \"Ex\"]\n",
        "BsmtExposure_cats = [\"NA\", \"No\", \"Mn\", \"Av\", \"Gd\"]\n",
        "BsmtFinType1_cats = [\"NA\", \"Unf\", \"LwQ\", \"Rec\", \"BLQ\", \"ALQ\", \"GLQ\"]\n",
        "KitchenQual_cats =  [\"NA\",\"Po\", \"Fa\", \"TA\", \"Gd\", \"Ex\"]\n",
        "FireplaceQu_cats =  [\"NA\", \"Po\", \"Fa\", \"TA\", \"Gd\", \"Ex\"]\n",
        "LotShape_cats =     ['IR3','IR2','IR1','Reg']\n",
        "BsmtFinType2_cats = [\"NA\", \"Unf\", \"LwQ\", \"Rec\", \"BLQ\", \"ALQ\", \"GLQ\"]\n",
        "HeatingQC_cats =    [\"NA\",\"Po\", \"Fa\", \"TA\", \"Gd\", \"Ex\"]\n",
        "GarageFinish_cats = ['NA','Unf','RFn','Fin']\n",
        "GarageQual_cats =   [\"NA\", \"Po\", \"Fa\", \"TA\", \"Gd\", \"Ex\"]\n",
        "GarageCond_cats =   [\"NA\", \"Po\", \"Fa\", \"TA\", \"Gd\", \"Ex\"]\n",
        "PoolQC_cats =       [\"NA\",\"Fa\", \"TA\", \"Gd\", \"Ex\"]\n",
        "Fence_cats =        [\"NA\",'MnWw','GdWo','MnPrv','GdPrv']\n",
        "\n",
        "\n",
        "\n",
        "ordinal_cats1 = [ExterQual_cats, ExterCond_cats, BsmtQual_cats, BsmtCond_cats, BsmtExposure_cats,\n",
        "                 BsmtFinType1_cats, KitchenQual_cats,\n",
        "                 FireplaceQu_cats, LotShape_cats, BsmtFinType2_cats,\n",
        "                 HeatingQC_cats,\n",
        "                 GarageFinish_cats, GarageQual_cats, GarageCond_cats,\n",
        "                 PoolQC_cats, Fence_cats]\n",
        "\n",
        "\n",
        "### 3.2.2. defining the categorical encoder: a ColumnTransformer with 2 branches: ordinal & onehot\n",
        "ordinal_cols_names = ['ExterQual', 'ExterCond', 'BsmtQual', 'BsmtCond', 'BsmtExposure',\n",
        "       'BsmtFinType1', 'KitchenQual', 'FireplaceQu', 'LotShape','BsmtFinType2',\n",
        "       'HeatingQC', 'GarageFinish', 'GarageQual', 'GarageCond',\n",
        "       'PoolQC', 'Fence']\n",
        "\n",
        "\n",
        "# Get Indexer of the columns\n",
        "ordinal_cols = X_cat.columns.get_indexer(ordinal_cols_names) # array([ 6,  7,  8,  9, 10, 11, 12, 13, 15, 29, 30, 34, 35, 36, 38, 39], dtype=int64)\n",
        "\n",
        "ohe_cols = X_cat.columns.get_indexer(list(set(X_cat) - set(ordinal_cols_names))) # array([14, 40,  0,  2, 25, 37, 32, 42, 24,  3, 18,  5,  4, 26, 19, 17, 27,41, 21, 22, 31, 33,  1, 16, 23, 28, 20], dtype=int64)\n",
        "\n",
        "\n",
        "\n",
        "\n",
        "\n",
        "categorical_encoder = ColumnTransformer(\n",
        "    transformers=[\n",
        "        (\"cat_ordinal\", OrdinalEncoder(categories=ordinal_cats1), ordinal_cols),\n",
        "        (\"cat_onehot\", OneHotEncoder(handle_unknown=\"ignore\"), ohe_cols),\n",
        "    ]\n",
        ")\n",
        "\n",
        "## 3.3. categorical pipeline = \"N_A\" imputer + categorical encoder\n",
        "categorical_pipe = make_pipeline(SimpleImputer(strategy=\"constant\", fill_value=\"NA\"),\n",
        "                                 categorical_encoder\n",
        "                                )\n",
        "\n",
        "# 4. full preprocessing: a ColumnTransformer with 2 branches: numeric & categorical\n",
        "full_preprocessing = ColumnTransformer(\n",
        "    transformers=[\n",
        "        (\"num_pipe\", numeric_pipe, X_num.columns),\n",
        "        (\"cat_pipe\", categorical_pipe, X_cat.columns),\n",
        "    ]\n",
        ")\n"
      ]
    },
    {
      "cell_type": "markdown",
      "metadata": {
        "id": "VB4nZ0L_a3a-"
      },
      "source": [
        "# 1. Decision Tree Model"
      ]
    },
    {
      "cell_type": "code",
      "execution_count": null,
      "metadata": {
        "id": "WmFLAtW1zlSd"
      },
      "outputs": [],
      "source": [
        "from sklearn.preprocessing import StandardScaler\n",
        "\n",
        "from sklearn.tree import DecisionTreeClassifier\n",
        "\n",
        "from sklearn.model_selection import GridSearchCV\n",
        "from sklearn.model_selection import RandomizedSearchCV"
      ]
    },
    {
      "cell_type": "code",
      "execution_count": null,
      "metadata": {
        "colab": {
          "base_uri": "https://localhost:8080/"
        },
        "id": "uGT_wTk0XKo4",
        "outputId": "a9e845c1-a7ae-4b25-bbe6-a5389b2ff09e"
      },
      "outputs": [
        {
          "name": "stderr",
          "output_type": "stream",
          "text": [
            "c:\\Python\\Python3108\\lib\\site-packages\\sklearn\\model_selection\\_search.py:306: UserWarning: The total space of parameters 60 is smaller than n_iter=100. Running 60 iterations. For exhaustive searches, use GridSearchCV.\n",
            "  warnings.warn(\n"
          ]
        },
        {
          "name": "stdout",
          "output_type": "stream",
          "text": [
            "Fitting 5 folds for each of 60 candidates, totalling 300 fits\n"
          ]
        },
        {
          "data": {
            "text/plain": [
              "{'dtree': 0.9332122812809507}"
            ]
          },
          "execution_count": 16,
          "metadata": {},
          "output_type": "execute_result"
        }
      ],
      "source": [
        "# full pipeline: preprocessor + model\n",
        "\n",
        "full_pipeline = make_pipeline(full_preprocessing, StandardScaler(with_mean=False), DecisionTreeClassifier(random_state=40))\n",
        "\n",
        "# define parameter grid\n",
        "param_grid = {\n",
        "    #\"columntransformer__num_pipe__simpleimputer__strategy\":[\"constant\", \"median\"],\n",
        "    #\"standardscaler__with_mean\":[True, False],\n",
        "   # \"standardscaler__with_std\":[True, False],\n",
        "    \"decisiontreeclassifier__max_depth\": range(2, 14, 2),\n",
        "    \"decisiontreeclassifier__min_samples_leaf\": range(3, 12, 2),\n",
        "    #\"decisiontreeclassifier__min_samples_split\": range(3, 40, 5),\n",
        "    \"decisiontreeclassifier__criterion\":[\"gini\", \"entropy\"]\n",
        "}\n",
        "\n",
        "# define GridSearchCV\n",
        "randomized_search_cv = RandomizedSearchCV(full_pipeline,\n",
        "                      param_grid,\n",
        "                      cv=5,\n",
        "                      scoring=\"accuracy\",\n",
        "                      verbose=1,\n",
        "                      n_jobs=-2,\n",
        "                      n_iter=100)\n",
        "\n",
        "# fit\n",
        "randomized_search_cv.fit(X_train, y_train)\n",
        "\n",
        "# create a dictionary to keep track of the scores of different models\n",
        "scores = {\"dtree\" : randomized_search_cv.best_score_}\n",
        "\n",
        "scores"
      ]
    },
    {
      "cell_type": "markdown",
      "metadata": {
        "id": "YJppq0cKmPa8"
      },
      "source": [
        "#### Decision Tree (with another param grid)"
      ]
    },
    {
      "cell_type": "code",
      "execution_count": null,
      "metadata": {
        "colab": {
          "base_uri": "https://localhost:8080/"
        },
        "id": "b1Bi8lcwoEdA",
        "outputId": "2a5eb4d9-3289-48ef-9f43-7b43863537f2"
      },
      "outputs": [
        {
          "name": "stdout",
          "output_type": "stream",
          "text": [
            "Fitting 5 folds for each of 100 candidates, totalling 500 fits\n"
          ]
        },
        {
          "data": {
            "text/plain": [
              "{'dtree': 0.9332122812809507}"
            ]
          },
          "execution_count": 17,
          "metadata": {},
          "output_type": "execute_result"
        }
      ],
      "source": [
        "# full pipeline: preprocessor + model\n",
        "full_pipeline = make_pipeline(full_preprocessing,\n",
        "                              StandardScaler(with_mean=False),\n",
        "                              DecisionTreeClassifier(random_state=40))\n",
        "\n",
        "# define parameter grid\n",
        "param_grid = {\n",
        "    \"columntransformer__num_pipe__simpleimputer__strategy\":[\"constant\", \"median\", \"mean\"],\n",
        "   # \"standardscaler__with_mean\":[True, False],\n",
        "    #\"standardscaler__with_std\":[True, False],\n",
        "    \"decisiontreeclassifier__max_depth\": range(2, 14, 2),\n",
        "    \"decisiontreeclassifier__min_samples_leaf\": range(3, 12, 2),\n",
        "    \"decisiontreeclassifier__min_samples_split\": range(3, 40, 5),\n",
        "    \"decisiontreeclassifier__criterion\":[\"gini\", \"entropy\"]\n",
        "}\n",
        "\n",
        "\n",
        "randomized_search_cv_2 = RandomizedSearchCV(full_pipeline,\n",
        "                      param_grid,\n",
        "                      n_iter = 100,\n",
        "                      cv=5,\n",
        "                      scoring=\"accuracy\",\n",
        "                      verbose=1)\n",
        "\n",
        "# fit\n",
        "randomized_search_cv_2.fit(X_train, y_train)\n",
        "\n",
        "# create a dictionary to keep track of the scores of different models\n",
        "scores = {\"dtree\" : randomized_search_cv.best_score_}\n",
        "\n",
        "scores"
      ]
    },
    {
      "cell_type": "markdown",
      "metadata": {
        "id": "s7VKrGT2mmeg"
      },
      "source": [
        "#### Predict the external file -  Competition data (Predict_data.csv)"
      ]
    },
    {
      "cell_type": "code",
      "execution_count": null,
      "metadata": {
        "id": "D3HzsmYiXKlu"
      },
      "outputs": [],
      "source": [
        "y_test_pred_comp = randomized_search_cv.predict(X_comp)"
      ]
    },
    {
      "cell_type": "code",
      "execution_count": null,
      "metadata": {
        "colab": {
          "base_uri": "https://localhost:8080/",
          "height": 424
        },
        "id": "eShz8fnkX0pn",
        "outputId": "e18edd48-c7a3-4e5b-f92d-d817b1665fc1"
      },
      "outputs": [
        {
          "data": {
            "text/html": [
              "<div>\n",
              "<style scoped>\n",
              "    .dataframe tbody tr th:only-of-type {\n",
              "        vertical-align: middle;\n",
              "    }\n",
              "\n",
              "    .dataframe tbody tr th {\n",
              "        vertical-align: top;\n",
              "    }\n",
              "\n",
              "    .dataframe thead th {\n",
              "        text-align: right;\n",
              "    }\n",
              "</style>\n",
              "<table border=\"1\" class=\"dataframe\">\n",
              "  <thead>\n",
              "    <tr style=\"text-align: right;\">\n",
              "      <th></th>\n",
              "      <th>Id</th>\n",
              "      <th>Expensive</th>\n",
              "    </tr>\n",
              "  </thead>\n",
              "  <tbody>\n",
              "    <tr>\n",
              "      <th>0</th>\n",
              "      <td>1461</td>\n",
              "      <td>0</td>\n",
              "    </tr>\n",
              "    <tr>\n",
              "      <th>1</th>\n",
              "      <td>1462</td>\n",
              "      <td>0</td>\n",
              "    </tr>\n",
              "    <tr>\n",
              "      <th>2</th>\n",
              "      <td>1463</td>\n",
              "      <td>0</td>\n",
              "    </tr>\n",
              "    <tr>\n",
              "      <th>3</th>\n",
              "      <td>1464</td>\n",
              "      <td>0</td>\n",
              "    </tr>\n",
              "    <tr>\n",
              "      <th>4</th>\n",
              "      <td>1465</td>\n",
              "      <td>0</td>\n",
              "    </tr>\n",
              "    <tr>\n",
              "      <th>...</th>\n",
              "      <td>...</td>\n",
              "      <td>...</td>\n",
              "    </tr>\n",
              "    <tr>\n",
              "      <th>1454</th>\n",
              "      <td>2915</td>\n",
              "      <td>0</td>\n",
              "    </tr>\n",
              "    <tr>\n",
              "      <th>1455</th>\n",
              "      <td>2916</td>\n",
              "      <td>0</td>\n",
              "    </tr>\n",
              "    <tr>\n",
              "      <th>1456</th>\n",
              "      <td>2917</td>\n",
              "      <td>1</td>\n",
              "    </tr>\n",
              "    <tr>\n",
              "      <th>1457</th>\n",
              "      <td>2918</td>\n",
              "      <td>0</td>\n",
              "    </tr>\n",
              "    <tr>\n",
              "      <th>1458</th>\n",
              "      <td>2919</td>\n",
              "      <td>0</td>\n",
              "    </tr>\n",
              "  </tbody>\n",
              "</table>\n",
              "<p>1459 rows × 2 columns</p>\n",
              "</div>"
            ],
            "text/plain": [
              "        Id  Expensive\n",
              "0     1461          0\n",
              "1     1462          0\n",
              "2     1463          0\n",
              "3     1464          0\n",
              "4     1465          0\n",
              "...    ...        ...\n",
              "1454  2915          0\n",
              "1455  2916          0\n",
              "1456  2917          1\n",
              "1457  2918          0\n",
              "1458  2919          0\n",
              "\n",
              "[1459 rows x 2 columns]"
            ]
          },
          "execution_count": 20,
          "metadata": {},
          "output_type": "execute_result"
        }
      ],
      "source": [
        "df_comp = pd.DataFrame(house_id)\n",
        "df_comp[\"Expensive\"] = y_test_pred_comp\n",
        "df_comp"
      ]
    },
    {
      "cell_type": "code",
      "execution_count": null,
      "metadata": {
        "id": "tanKTovbYPqv"
      },
      "outputs": [],
      "source": [
        "df_comp.to_csv(\"./predict_data_completed_decisionTree.csv\", index=False)"
      ]
    },
    {
      "cell_type": "markdown",
      "metadata": {
        "id": "VHRfFMdEa-Cz"
      },
      "source": [
        "# 2. Random Forest Model:"
      ]
    },
    {
      "cell_type": "code",
      "execution_count": null,
      "metadata": {
        "id": "9mFd1A56y3yU"
      },
      "outputs": [],
      "source": [
        "from sklearn.ensemble import RandomForestClassifier"
      ]
    },
    {
      "cell_type": "code",
      "execution_count": null,
      "metadata": {
        "colab": {
          "base_uri": "https://localhost:8080/"
        },
        "id": "T9Fv5u-9XJxJ",
        "outputId": "69f5d1f7-2c4d-409d-fd13-27d3f8905ba3"
      },
      "outputs": [
        {
          "name": "stdout",
          "output_type": "stream",
          "text": [
            "Fitting 5 folds for each of 50 candidates, totalling 250 fits\n"
          ]
        },
        {
          "data": {
            "text/plain": [
              "0.9460548035655331"
            ]
          },
          "execution_count": 23,
          "metadata": {},
          "output_type": "execute_result"
        }
      ],
      "source": [
        "\n",
        "scaler = StandardScaler()\n",
        "\n",
        "\n",
        "rfc_full_pipeline = make_pipeline(preprocessor,\n",
        "                          StandardScaler(with_mean=False),\n",
        "                          RandomForestClassifier()\n",
        "                             )\n",
        "param_grid = {\n",
        "    \"randomforestclassifier__n_estimators\": [10, 20],\n",
        "    \"randomforestclassifier__max_depth\": range(2, 14),\n",
        "    \"randomforestclassifier__min_samples_leaf\": range(3, 12),\n",
        "    \"randomforestclassifier__criterion\":[\"gini\", \"entropy\"]\n",
        "\n",
        "}\n",
        "\n",
        "random_f_randomized_cv = RandomizedSearchCV(rfc_full_pipeline,\n",
        "                      param_grid,\n",
        "                      cv=5,\n",
        "                      n_jobs=-2,\n",
        "                      n_iter=50,\n",
        "                      scoring='accuracy',\n",
        "                      verbose=1)\n",
        "\n",
        "random_f_randomized_cv.fit(X_train, y_train)\n",
        "\n",
        "scores[\"rfc\"] = random_f_randomized_cv.best_score_\n",
        "\n",
        "random_f_randomized_cv.best_score_"
      ]
    },
    {
      "cell_type": "markdown",
      "metadata": {
        "id": "eCI1R0h_t679"
      },
      "source": [
        "#### Predict the external file -  Competition data (Predict_data.csv)"
      ]
    },
    {
      "cell_type": "code",
      "execution_count": null,
      "metadata": {
        "id": "1g0o35eDZvX9"
      },
      "outputs": [],
      "source": [
        "y_test_pred_comp_1 = random_f_randomized_cv.predict(X_comp)"
      ]
    },
    {
      "cell_type": "code",
      "execution_count": null,
      "metadata": {
        "colab": {
          "base_uri": "https://localhost:8080/",
          "height": 424
        },
        "id": "wQDO-d0PXJuV",
        "outputId": "56702504-b447-45e6-fe4e-511dba37344d"
      },
      "outputs": [
        {
          "data": {
            "text/html": [
              "<div>\n",
              "<style scoped>\n",
              "    .dataframe tbody tr th:only-of-type {\n",
              "        vertical-align: middle;\n",
              "    }\n",
              "\n",
              "    .dataframe tbody tr th {\n",
              "        vertical-align: top;\n",
              "    }\n",
              "\n",
              "    .dataframe thead th {\n",
              "        text-align: right;\n",
              "    }\n",
              "</style>\n",
              "<table border=\"1\" class=\"dataframe\">\n",
              "  <thead>\n",
              "    <tr style=\"text-align: right;\">\n",
              "      <th></th>\n",
              "      <th>Id</th>\n",
              "      <th>Expensive</th>\n",
              "    </tr>\n",
              "  </thead>\n",
              "  <tbody>\n",
              "    <tr>\n",
              "      <th>0</th>\n",
              "      <td>1461</td>\n",
              "      <td>0</td>\n",
              "    </tr>\n",
              "    <tr>\n",
              "      <th>1</th>\n",
              "      <td>1462</td>\n",
              "      <td>0</td>\n",
              "    </tr>\n",
              "    <tr>\n",
              "      <th>2</th>\n",
              "      <td>1463</td>\n",
              "      <td>0</td>\n",
              "    </tr>\n",
              "    <tr>\n",
              "      <th>3</th>\n",
              "      <td>1464</td>\n",
              "      <td>0</td>\n",
              "    </tr>\n",
              "    <tr>\n",
              "      <th>4</th>\n",
              "      <td>1465</td>\n",
              "      <td>0</td>\n",
              "    </tr>\n",
              "    <tr>\n",
              "      <th>...</th>\n",
              "      <td>...</td>\n",
              "      <td>...</td>\n",
              "    </tr>\n",
              "    <tr>\n",
              "      <th>1454</th>\n",
              "      <td>2915</td>\n",
              "      <td>0</td>\n",
              "    </tr>\n",
              "    <tr>\n",
              "      <th>1455</th>\n",
              "      <td>2916</td>\n",
              "      <td>0</td>\n",
              "    </tr>\n",
              "    <tr>\n",
              "      <th>1456</th>\n",
              "      <td>2917</td>\n",
              "      <td>0</td>\n",
              "    </tr>\n",
              "    <tr>\n",
              "      <th>1457</th>\n",
              "      <td>2918</td>\n",
              "      <td>0</td>\n",
              "    </tr>\n",
              "    <tr>\n",
              "      <th>1458</th>\n",
              "      <td>2919</td>\n",
              "      <td>0</td>\n",
              "    </tr>\n",
              "  </tbody>\n",
              "</table>\n",
              "<p>1459 rows × 2 columns</p>\n",
              "</div>"
            ],
            "text/plain": [
              "        Id  Expensive\n",
              "0     1461          0\n",
              "1     1462          0\n",
              "2     1463          0\n",
              "3     1464          0\n",
              "4     1465          0\n",
              "...    ...        ...\n",
              "1454  2915          0\n",
              "1455  2916          0\n",
              "1456  2917          0\n",
              "1457  2918          0\n",
              "1458  2919          0\n",
              "\n",
              "[1459 rows x 2 columns]"
            ]
          },
          "execution_count": 25,
          "metadata": {},
          "output_type": "execute_result"
        }
      ],
      "source": [
        "df_comp_r = pd.DataFrame(house_id)\n",
        "df_comp_r[\"Expensive\"] = y_test_pred_comp_1\n",
        "df_comp_r"
      ]
    },
    {
      "cell_type": "code",
      "execution_count": null,
      "metadata": {
        "id": "qonyd1PjXJrp"
      },
      "outputs": [],
      "source": [
        "df_comp_r.to_csv(\"./predict_data_completed_randomeForest.csv\", index=False)"
      ]
    }
  ],
  "metadata": {
    "colab": {
      "provenance": [],
      "include_colab_link": true
    },
    "kernelspec": {
      "display_name": "Python 3",
      "language": "python",
      "name": "python3"
    },
    "language_info": {
      "codemirror_mode": {
        "name": "ipython",
        "version": 3
      },
      "file_extension": ".py",
      "mimetype": "text/x-python",
      "name": "python",
      "nbconvert_exporter": "python",
      "pygments_lexer": "ipython3",
      "version": "3.10.8"
    },
    "vscode": {
      "interpreter": {
        "hash": "c6dc7db6e986e8b90ed4be5bee4794d9e1585055375cb0fe0f76777a0105364a"
      }
    }
  },
  "nbformat": 4,
  "nbformat_minor": 0
}